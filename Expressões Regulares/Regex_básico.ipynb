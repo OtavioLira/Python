{
  "cells": [
    {
      "cell_type": "markdown",
      "metadata": {
        "id": "uy-eJArG5GS7"
      },
      "source": [
        "# Expressões regulares em Python\n",
        "\n",
        "referência: https://medium.com/pyladiesbh/regex-b%C3%A1sico-em-python-31dcb7fac046\n",
        "\n",
        "## Comandos básicos\n",
        "**re.match**: determina se a expressão regular combina com o início da string. Retorna a posição da string buscada.\n",
        "\n",
        "**re.search**: varre toda a string, procurando o primeiro local onde esta expressão regular tem correspondência. Retorna a posição da string buscada.\n",
        "\n",
        "**re.findall**: encontra todas as substrings que têm correspondência com a expressão regular, e as retorna como uma lista. Retorna uma lista com as strings encontradas.\n",
        "\n",
        "**re.finditer**: encontra todas as substrings que têm correspondência com a expressão regular, e as retorna como um iterador.\n",
        "\n",
        "**re.sub**: procura onde esta expressão regular tem correspondência e faz as substituições desejadas. Retorna a string com a substituição realizada.\n"
      ]
    },
    {
      "cell_type": "code",
      "execution_count": 2,
      "metadata": {
        "id": "rGp_AJOu4i_b"
      },
      "outputs": [],
      "source": [
        "# Biblioteca usada\n",
        "import re"
      ]
    },
    {
      "cell_type": "code",
      "execution_count": 3,
      "metadata": {
        "colab": {
          "base_uri": "https://localhost:8080/"
        },
        "id": "Bqd9ehca4xQc",
        "outputId": "26ea5346-ed1f-46e3-9b4c-e5272c9afea3"
      },
      "outputs": [
        {
          "data": {
            "text/plain": [
              "<re.Match object; span=(0, 5), match='frase'>"
            ]
          },
          "execution_count": 3,
          "metadata": {},
          "output_type": "execute_result"
        }
      ],
      "source": [
        "string = \"frase que será analisada pelo regex porque regex é legal e útil\"\n",
        "re.match(\"frase\",string)"
      ]
    },
    {
      "cell_type": "code",
      "execution_count": 4,
      "metadata": {
        "id": "Yqpdy9pf5avJ"
      },
      "outputs": [],
      "source": [
        "re.match(\"regex\",string)"
      ]
    },
    {
      "cell_type": "code",
      "execution_count": 5,
      "metadata": {
        "colab": {
          "base_uri": "https://localhost:8080/"
        },
        "id": "7Ejq-LC_5e80",
        "outputId": "232c5e17-9c25-4a70-8ac3-42d674a45c24"
      },
      "outputs": [
        {
          "data": {
            "text/plain": [
              "<re.Match object; span=(0, 5), match='frase'>"
            ]
          },
          "execution_count": 5,
          "metadata": {},
          "output_type": "execute_result"
        }
      ],
      "source": [
        "re.search(\"frase\",string)"
      ]
    },
    {
      "cell_type": "code",
      "execution_count": 6,
      "metadata": {
        "colab": {
          "base_uri": "https://localhost:8080/"
        },
        "id": "EGEv3R1Z5lVs",
        "outputId": "57e0d5f6-1a9a-4cb1-a85a-a849b5c6800c"
      },
      "outputs": [
        {
          "data": {
            "text/plain": [
              "['que', 'que']"
            ]
          },
          "execution_count": 6,
          "metadata": {},
          "output_type": "execute_result"
        }
      ],
      "source": [
        "re.findall(\"que\", string)"
      ]
    },
    {
      "cell_type": "code",
      "execution_count": 7,
      "metadata": {
        "colab": {
          "base_uri": "https://localhost:8080/"
        },
        "id": "mNgnQsC15wub",
        "outputId": "20d69cff-4c35-499a-ec60-fe6b622b5505"
      },
      "outputs": [
        {
          "data": {
            "text/plain": [
              "<callable_iterator at 0x262e70b79d0>"
            ]
          },
          "execution_count": 7,
          "metadata": {},
          "output_type": "execute_result"
        }
      ],
      "source": [
        "re.finditer(\"regex\",string)"
      ]
    },
    {
      "cell_type": "code",
      "execution_count": 8,
      "metadata": {
        "colab": {
          "base_uri": "https://localhost:8080/"
        },
        "id": "7DHVPwvQ5ze7",
        "outputId": "63047fab-0c9a-4017-820c-5c3806775bf0"
      },
      "outputs": [
        {
          "name": "stdout",
          "output_type": "stream",
          "text": [
            "<re.Match object; span=(30, 35), match='regex'>\n",
            "<re.Match object; span=(43, 48), match='regex'>\n"
          ]
        }
      ],
      "source": [
        "for i in re.finditer(\"regex\",string):\n",
        "    print(i)"
      ]
    },
    {
      "cell_type": "code",
      "execution_count": 9,
      "metadata": {
        "colab": {
          "base_uri": "https://localhost:8080/",
          "height": 35
        },
        "id": "QLfZwMtE556T",
        "outputId": "b904ebee-f3c3-4cea-f828-5e88f77cbfe0"
      },
      "outputs": [
        {
          "data": {
            "text/plain": [
              "'frase que será avaliada pelo regex porque regex é legal e útil'"
            ]
          },
          "execution_count": 9,
          "metadata": {},
          "output_type": "execute_result"
        }
      ],
      "source": [
        "re.sub(\"analisada\",\"avaliada\",string)"
      ]
    },
    {
      "cell_type": "code",
      "execution_count": 11,
      "metadata": {
        "id": "eBHSoNOV6ATC"
      },
      "outputs": [
        {
          "name": "stdout",
          "output_type": "stream",
          "text": [
            "<re.Match object; span=(0, 3), match='www'>\n",
            "None\n",
            "None\n"
          ]
        }
      ],
      "source": [
        "# Padrões\n",
        "lista = [\"www.google.com\", \"https://www.google.com\", \"google.com.br\"]\n",
        "for string in lista:\n",
        "    print(re.search(\"^www\", string))"
      ]
    },
    {
      "cell_type": "code",
      "execution_count": 12,
      "metadata": {},
      "outputs": [
        {
          "name": "stdout",
          "output_type": "stream",
          "text": [
            "<re.Match object; span=(11, 14), match='com'>\n",
            "<re.Match object; span=(19, 22), match='com'>\n",
            "None\n"
          ]
        }
      ],
      "source": [
        "for string in lista:\n",
        "    print(re.search(\"com$\", string))"
      ]
    },
    {
      "cell_type": "code",
      "execution_count": 13,
      "metadata": {},
      "outputs": [
        {
          "name": "stdout",
          "output_type": "stream",
          "text": [
            "<re.Match object; span=(0, 6), match='naiara'>\n",
            "<re.Match object; span=(0, 6), match='naiara'>\n",
            "None\n",
            "None\n",
            "<re.Match object; span=(0, 6), match='naiars'>\n"
          ]
        }
      ],
      "source": [
        "lista= [ 'naiara', 'naiaraaaaaa', 'naaaaaaiara', 'naiar', 'naiars' ]\n",
        "for string in lista:\n",
        "    print(re.search(\"naiar.\", string))"
      ]
    },
    {
      "cell_type": "code",
      "execution_count": 14,
      "metadata": {},
      "outputs": [
        {
          "name": "stdout",
          "output_type": "stream",
          "text": [
            "<re.Match object; span=(0, 6), match='naiara'>\n",
            "<re.Match object; span=(0, 6), match='naiara'>\n",
            "None\n",
            "<re.Match object; span=(0, 5), match='naiar'>\n",
            "<re.Match object; span=(0, 5), match='naiar'>\n"
          ]
        }
      ],
      "source": [
        "for string in lista:\n",
        "    print(re.search(\"naiara?\", string))"
      ]
    },
    {
      "cell_type": "code",
      "execution_count": 15,
      "metadata": {},
      "outputs": [
        {
          "name": "stdout",
          "output_type": "stream",
          "text": [
            "<re.Match object; span=(0, 6), match='naiara'>\n",
            "<re.Match object; span=(0, 11), match='naiaraaaaaa'>\n",
            "None\n",
            "None\n",
            "None\n"
          ]
        }
      ],
      "source": [
        "for string in lista:\n",
        "    print(re.search(\"naiara+\", string))"
      ]
    },
    {
      "cell_type": "code",
      "execution_count": 18,
      "metadata": {},
      "outputs": [
        {
          "name": "stderr",
          "output_type": "stream",
          "text": [
            "<>:2: SyntaxWarning: invalid escape sequence '\\s'\n",
            "<>:2: SyntaxWarning: invalid escape sequence '\\s'\n",
            "C:\\Users\\USER\\AppData\\Local\\Temp\\ipykernel_16876\\84986646.py:2: SyntaxWarning: invalid escape sequence '\\s'\n",
            "  re.sub(\"\\s+$\", \"\", string)\n"
          ]
        },
        {
          "data": {
            "text/plain": [
              "'essa é uma frase com espaos demais no final'"
            ]
          },
          "execution_count": 18,
          "metadata": {},
          "output_type": "execute_result"
        }
      ],
      "source": [
        "string = \"essa é uma frase com espaos demais no final    \"\n",
        "re.sub(\"\\s+$\", \"\", string)"
      ]
    },
    {
      "cell_type": "code",
      "execution_count": 19,
      "metadata": {},
      "outputs": [],
      "source": [
        "string = \"A história do PLN começou na década de 1950, quando Alan Turing publicou o artigo Computing Machinery and Intelligence, que propunha o que agora é chamado de teste de Turing como critério de inteligência. Em 1954, a experiência de Georgetown envolveu a tradução automática de mais de sessenta frases russas para o inglês. Os autores afirmaram que dentro de três ou cinco anos a tradução automática seria um problema resolvido.[2] No entanto, os avanços reais foram muito mais lentos do que o previsto e, após o relatório ALPAC em 1966, que constatou que a pesquisa de dez anos não conseguiu satisfazer as expectativas, o financiamento para este estudo em tradução automática foi reduzido drasticamente. Poucas pesquisas em tradução automática foram conduzidas até o final dos anos 80, quando os primeiros sistemas estatísticos de tradução foram desenvolvidos.\""
      ]
    },
    {
      "cell_type": "code",
      "execution_count": 21,
      "metadata": {},
      "outputs": [
        {
          "data": {
            "text/plain": [
              "['A',\n",
              " 'P',\n",
              " 'L',\n",
              " 'N',\n",
              " 'A',\n",
              " 'T',\n",
              " 'C',\n",
              " 'M',\n",
              " 'I',\n",
              " 'T',\n",
              " 'E',\n",
              " 'G',\n",
              " 'O',\n",
              " 'N',\n",
              " 'A',\n",
              " 'L',\n",
              " 'P',\n",
              " 'A',\n",
              " 'C',\n",
              " 'P']"
            ]
          },
          "execution_count": 21,
          "metadata": {},
          "output_type": "execute_result"
        }
      ],
      "source": [
        "# Listar todas as letras maiúsculas\n",
        "re.findall(\"[A-Z]\", string)"
      ]
    },
    {
      "cell_type": "code",
      "execution_count": 22,
      "metadata": {},
      "outputs": [
        {
          "data": {
            "text/plain": [
              "['1950', '1954', '2', '1966', '80']"
            ]
          },
          "execution_count": 22,
          "metadata": {},
          "output_type": "execute_result"
        }
      ],
      "source": [
        "# Lista todos os caracteres numericos\n",
        "re.findall(\"[0-9]+\", string)"
      ]
    },
    {
      "cell_type": "code",
      "execution_count": 24,
      "metadata": {},
      "outputs": [
        {
          "name": "stderr",
          "output_type": "stream",
          "text": [
            "<>:2: SyntaxWarning: invalid escape sequence '\\w'\n",
            "<>:2: SyntaxWarning: invalid escape sequence '\\w'\n",
            "C:\\Users\\USER\\AppData\\Local\\Temp\\ipykernel_16876\\3039488545.py:2: SyntaxWarning: invalid escape sequence '\\w'\n",
            "  re.findall(\"\\w\", string) # Lista todos os caracteres não especiais\n"
          ]
        },
        {
          "data": {
            "text/plain": [
              "['A',\n",
              " 'B',\n",
              " 'C',\n",
              " 'D',\n",
              " 'E',\n",
              " 'F',\n",
              " 'a',\n",
              " 'b',\n",
              " 'c',\n",
              " 'd',\n",
              " 'e',\n",
              " 'f',\n",
              " '_',\n",
              " '1',\n",
              " '2',\n",
              " '3',\n",
              " '4',\n",
              " '5',\n",
              " '0']"
            ]
          },
          "execution_count": 24,
          "metadata": {},
          "output_type": "execute_result"
        }
      ],
      "source": [
        "string = 'ABCDEFabcdef_123450&%@#!'\n",
        "re.findall(\"\\w\", string) # Lista todos os caracteres não especiais"
      ]
    },
    {
      "cell_type": "code",
      "execution_count": 26,
      "metadata": {},
      "outputs": [
        {
          "name": "stderr",
          "output_type": "stream",
          "text": [
            "<>:2: SyntaxWarning: invalid escape sequence '\\['\n",
            "<>:2: SyntaxWarning: invalid escape sequence '\\['\n",
            "C:\\Users\\USER\\AppData\\Local\\Temp\\ipykernel_16876\\1039302831.py:2: SyntaxWarning: invalid escape sequence '\\['\n",
            "  re.findall(\"\\[(.*)\\]\", string) # Lista todos os caracteres entre colchetes\n"
          ]
        },
        {
          "data": {
            "text/plain": [
              "['codigo']"
            ]
          },
          "execution_count": 26,
          "metadata": {},
          "output_type": "execute_result"
        }
      ],
      "source": [
        "string = \"[codigo] string\"\n",
        "re.findall(\"\\[(.*)\\]\", string) # Lista todos os caracteres entre colchetes"
      ]
    },
    {
      "cell_type": "code",
      "execution_count": 27,
      "metadata": {},
      "outputs": [
        {
          "data": {
            "text/plain": [
              "'2020-11-28'"
            ]
          },
          "execution_count": 27,
          "metadata": {},
          "output_type": "execute_result"
        }
      ],
      "source": [
        "# Bonus\n",
        "data = \"28/11/2020\"\n",
        "re.sub(r\"(..)/(..)/(....)\", r\"\\3-\\2-\\1\", data) # Troca a data para o formato ano-mes-dia"
      ]
    }
  ],
  "metadata": {
    "colab": {
      "provenance": []
    },
    "kernelspec": {
      "display_name": "Python 3",
      "name": "python3"
    },
    "language_info": {
      "codemirror_mode": {
        "name": "ipython",
        "version": 3
      },
      "file_extension": ".py",
      "mimetype": "text/x-python",
      "name": "python",
      "nbconvert_exporter": "python",
      "pygments_lexer": "ipython3",
      "version": "3.12.6"
    }
  },
  "nbformat": 4,
  "nbformat_minor": 0
}
